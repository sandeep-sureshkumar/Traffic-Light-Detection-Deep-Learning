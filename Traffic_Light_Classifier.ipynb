{
 "cells": [
  {
   "cell_type": "code",
   "execution_count": 11,
   "id": "6f7f0002",
   "metadata": {},
   "outputs": [],
   "source": [
    "#importing libraries\n",
    "from keras.models import Sequential\n",
    "from keras.layers import Convolution2D\n",
    "from keras.layers import MaxPooling2D\n",
    "from keras.layers import Flatten\n",
    "from keras.layers import Dense\n",
    "\n",
    "\n",
    "#Initialize the CNN\n",
    "classifier=Sequential()\n",
    "\n",
    "#create convolution and RELU\n",
    "classifier.add(Convolution2D(32,3,3,input_shape=(64,64,3),activation='relu'))\n",
    "\n",
    "#create 2nd layer convolution and RELU\n",
    "classifier.add(Convolution2D(32,3,3,activation='relu'))\n",
    "\n",
    "#create Pooling layer\n",
    "classifier.add(MaxPooling2D(pool_size=(2,2)))\n",
    "\n",
    "#Flattening layer\n",
    "classifier.add(Flatten())\n",
    "\n",
    "#Fully Connected Layer\n",
    "classifier.add(Dense(units=128,activation=\"relu\"))\n",
    "classifier.add(Dense(units=1,activation=\"sigmoid\"))\n",
    "\n",
    "#Compiling the CNN\n",
    "classifier.compile(optimizer='adam',loss=\"binary_crossentropy\",metrics=['accuracy'])"
   ]
  },
  {
   "cell_type": "code",
   "execution_count": 12,
   "id": "c988b777",
   "metadata": {},
   "outputs": [
    {
     "name": "stdout",
     "output_type": "stream",
     "text": [
      "Found 6648 images belonging to 2 classes.\n",
      "Found 2049 images belonging to 2 classes.\n",
      "Epoch 1/5\n",
      "208/208 [==============================] - 21s 100ms/step - loss: 0.0454 - accuracy: 0.9872 - val_loss: 0.0034 - val_accuracy: 1.0000\n",
      "Epoch 2/5\n",
      "208/208 [==============================] - 18s 87ms/step - loss: 0.0040 - accuracy: 0.9997 - val_loss: 5.3882e-04 - val_accuracy: 1.0000\n",
      "Epoch 3/5\n",
      "208/208 [==============================] - 19s 90ms/step - loss: 0.0026 - accuracy: 0.9995 - val_loss: 2.2571e-04 - val_accuracy: 1.0000\n",
      "Epoch 4/5\n",
      "208/208 [==============================] - 18s 85ms/step - loss: 0.0027 - accuracy: 0.9997 - val_loss: 2.1777e-04 - val_accuracy: 1.0000\n",
      "Epoch 5/5\n",
      "208/208 [==============================] - 17s 81ms/step - loss: 0.0021 - accuracy: 0.9997 - val_loss: 3.5318e-04 - val_accuracy: 1.0000\n"
     ]
    },
    {
     "data": {
      "text/plain": [
       "<keras.callbacks.History at 0x1a96897ef60>"
      ]
     },
     "execution_count": 12,
     "metadata": {},
     "output_type": "execute_result"
    }
   ],
   "source": [
    "from keras.preprocessing.image import ImageDataGenerator\n",
    "train_dataset=ImageDataGenerator(rescale=1./255,shear_range = 0.2,zoom_range = 0.2,horizontal_flip = True)\n",
    "test_dataset=ImageDataGenerator(rescale=1./255)\n",
    "train=train_dataset.flow_from_directory('Classifier_Dataset/train_set',target_size=(64,64),batch_size=32,class_mode='binary')\n",
    "test=train_dataset.flow_from_directory('Classifier_Dataset/test_set',target_size=(64,64),batch_size=32,class_mode='binary')\n",
    "classifier.fit(x = train, validation_data = test, epochs = 5)\n"
   ]
  },
  {
   "cell_type": "code",
   "execution_count": 13,
   "id": "93727a13",
   "metadata": {},
   "outputs": [],
   "source": [
    "import os.path\n",
    "if os.path.isfile('model/tl_classifier.h5') is False:\n",
    "    classifier.save('model/tl_classifier.h5')"
   ]
  },
  {
   "cell_type": "markdown",
   "id": "e4dc810f",
   "metadata": {},
   "source": [
    "import numpy as np\n",
    "from keras.preprocessing import image\n",
    "\n",
    "def pred(img):\n",
    "    test_image=image.load_img(img,target_size=(64,64))\n",
    "    test_image=image.img_to_array(test_image)\n",
    "    test_image=np.expand_dims(test_image,axis=0)\n",
    "    result=classifier.predict(test_image)\n",
    "    print(result)\n",
    "    if result[0][0]==1:\n",
    "        prediction='Red'\n",
    "    else:\n",
    "        prediction='Green'\n",
    "    print(prediction)\n",
    "    return prediction"
   ]
  },
  {
   "cell_type": "code",
   "execution_count": null,
   "id": "df28d527",
   "metadata": {},
   "outputs": [],
   "source": []
  }
 ],
 "metadata": {
  "kernelspec": {
   "display_name": "Python 3",
   "language": "python",
   "name": "python3"
  },
  "language_info": {
   "codemirror_mode": {
    "name": "ipython",
    "version": 3
   },
   "file_extension": ".py",
   "mimetype": "text/x-python",
   "name": "python",
   "nbconvert_exporter": "python",
   "pygments_lexer": "ipython3",
   "version": "3.6.13"
  }
 },
 "nbformat": 4,
 "nbformat_minor": 5
}
